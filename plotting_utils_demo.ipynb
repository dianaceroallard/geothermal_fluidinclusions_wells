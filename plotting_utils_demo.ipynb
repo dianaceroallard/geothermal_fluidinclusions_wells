{
 "cells": [
  {
   "cell_type": "code",
   "execution_count": null,
   "id": "4027a758",
   "metadata": {},
   "outputs": [],
   "source": [
    "import matplotlib.pyplot as plt\n",
    "import plotting_utils\n",
    "import pandas as pd"
   ]
  },
  {
   "cell_type": "code",
   "execution_count": null,
   "id": "43937c4b",
   "metadata": {},
   "outputs": [],
   "source": [
    "data = pd.read_csv('./data/cleaned_types.csv')"
   ]
  },
  {
   "cell_type": "code",
   "execution_count": null,
   "id": "20c92989",
   "metadata": {},
   "outputs": [],
   "source": [
    "plotting_utils.make_heatplot(data, '23A-17', norm_type='std')"
   ]
  },
  {
   "cell_type": "code",
   "execution_count": null,
   "id": "591fa170",
   "metadata": {},
   "outputs": [],
   "source": [
    "wells_focus = sorted(['15A-17', '23A-17', '23A-19', '24A-8', '337', '349RD2', '38D9'])\n",
    "_ = plotting_utils.make_heatplot(data, wells_focus, norm_type='std')"
   ]
  },
  {
   "cell_type": "code",
   "execution_count": null,
   "id": "2eb7836e",
   "metadata": {},
   "outputs": [],
   "source": [
    "from ipywidgets import fixed, interact"
   ]
  },
  {
   "cell_type": "markdown",
   "id": "5c80245c",
   "metadata": {},
   "source": [
    "Interactively plot a single well from a selection of wells."
   ]
  },
  {
   "cell_type": "code",
   "execution_count": null,
   "id": "105a3b8e",
   "metadata": {},
   "outputs": [],
   "source": [
    "_ = interact(plotting_utils.make_heatplot,\n",
    "                data=fixed(data),\n",
    "                well_names=['15A-17', '23A-17', '23A-19', '24A-8', '337', '349RD2', '38D9'],\n",
    "                norm_type=['max', 'std']\n",
    "                )"
   ]
  },
  {
   "cell_type": "markdown",
   "id": "05208ca5",
   "metadata": {},
   "source": [
    "Plot a group of plots and change only the norm_type interactively."
   ]
  },
  {
   "cell_type": "code",
   "execution_count": null,
   "id": "e01f5d5b",
   "metadata": {},
   "outputs": [],
   "source": [
    "_ = interact(plotting_utils.make_heatplot,\n",
    "                data=fixed(data),\n",
    "                well_names=fixed(['15A-17', '23A-17', '23A-19', '24A-8', '337', '349RD2', '38D9']),\n",
    "                norm_type=['max', 'std']\n",
    "                )"
   ]
  },
  {
   "cell_type": "code",
   "execution_count": null,
   "id": "bae0aa43",
   "metadata": {},
   "outputs": [],
   "source": []
  }
 ],
 "metadata": {
  "kernelspec": {
   "display_name": "Python 3",
   "language": "python",
   "name": "python3"
  },
  "language_info": {
   "codemirror_mode": {
    "name": "ipython",
    "version": 3
   },
   "file_extension": ".py",
   "mimetype": "text/x-python",
   "name": "python",
   "nbconvert_exporter": "python",
   "pygments_lexer": "ipython3",
   "version": "3.7.10"
  }
 },
 "nbformat": 4,
 "nbformat_minor": 5
}
