{
 "cells": [
  {
   "cell_type": "code",
   "execution_count": 1,
   "id": "c03a81d7",
   "metadata": {},
   "outputs": [],
   "source": [
    "from ipywidgets import interact\n",
    "\n",
    "import pandas as pd\n",
    "import numpy as np\n",
    "import matplotlib.pyplot as plt"
   ]
  },
  {
   "cell_type": "code",
   "execution_count": 2,
   "id": "744d6144",
   "metadata": {},
   "outputs": [],
   "source": [
    "coso_data = pd.read_csv('./data/cleaned_types.csv')"
   ]
  },
  {
   "cell_type": "code",
   "execution_count": 3,
   "id": "33697278",
   "metadata": {},
   "outputs": [],
   "source": [
    "def norm(s, norm_type):\n",
    "    if norm_type == 'max':\n",
    "        if np.nanmax(s) == 0:\n",
    "            return s\n",
    "        else:\n",
    "            return s / np.nanmax(s)\n",
    "    if norm_type == 'std':\n",
    "        if np.std(s) == 0:\n",
    "            return s\n",
    "        else:\n",
    "            return s / np.std(s)"
   ]
  },
  {
   "cell_type": "code",
   "execution_count": 4,
   "id": "16b661fb",
   "metadata": {},
   "outputs": [],
   "source": [
    "names = []\n",
    "for name in list(coso_data['Well ID'].unique()):\n",
    "    try:\n",
    "        name / 1\n",
    "    except TypeError:\n",
    "        # These wells are missing depths, so we will skip them.\n",
    "        if name in ['38C9', '47A-8', '84-30']:\n",
    "            continue\n",
    "        names.append(name)"
   ]
  },
  {
   "cell_type": "code",
   "execution_count": 5,
   "id": "9c3d3194",
   "metadata": {
    "scrolled": false
   },
   "outputs": [
    {
     "data": {
      "application/vnd.jupyter.widget-view+json": {
       "model_id": "d68638bbb3284a3e8214923cc24b51f9",
       "version_major": 2,
       "version_minor": 0
      },
      "text/plain": [
       "interactive(children=(Dropdown(description='well_name', options=('15A-17', '23A-17', '23A-19', '24A-8', '337',…"
      ]
     },
     "metadata": {},
     "output_type": "display_data"
    }
   ],
   "source": [
    "@interact(well_name=names, norm_type=['max', 'std'])\n",
    "def make_heatplot(well_name, norm_type):\n",
    "    \n",
    "    # Get a list of the AMUs available\n",
    "    amu_list = coso_data.columns[7:-5]\n",
    "    \n",
    "    # Get the AMUs for a specific well\n",
    "    X = coso_data.loc[coso_data['Well ID'] == well_name][amu_list]\n",
    "    X = np.nan_to_num(X.astype(float).values)\n",
    "    \n",
    "    # Normalise each AMU (column)\n",
    "    X2 = np.apply_along_axis(norm, axis=0, arr=X, norm_type=norm_type)\n",
    "    \n",
    "    # Get depths for the plots\n",
    "    depths = coso_data.loc[coso_data['Well ID'] == well_name]['Depth (ft)']\n",
    "    extents = (0, 6500, np.nanmax(depths), np.nanmin(depths))\n",
    "    \n",
    "    # Change the vmax based on the norm used\n",
    "    if norm_type == 'std':\n",
    "        ma = 5\n",
    "    else:\n",
    "        ma = 1\n",
    "    \n",
    "    # Plotting stuff\n",
    "    fig, ax = plt.subplots(figsize=(10,10))\n",
    "    im = ax.imshow(X2, vmax=ma, extent=extents)\n",
    "    plt.colorbar(im, shrink=0.75)\n",
    "    \n",
    "    ax.set_xticks(np.linspace(0, 6500, 19))\n",
    "    ax.set_xticklabels(np.arange(0, 181, 10))\n",
    "    \n",
    "    return None"
   ]
  },
  {
   "cell_type": "code",
   "execution_count": null,
   "id": "0fa67c1c",
   "metadata": {},
   "outputs": [],
   "source": []
  }
 ],
 "metadata": {
  "kernelspec": {
   "display_name": "Python 3",
   "language": "python",
   "name": "python3"
  },
  "language_info": {
   "codemirror_mode": {
    "name": "ipython",
    "version": 3
   },
   "file_extension": ".py",
   "mimetype": "text/x-python",
   "name": "python",
   "nbconvert_exporter": "python",
   "pygments_lexer": "ipython3",
   "version": "3.8.8"
  }
 },
 "nbformat": 4,
 "nbformat_minor": 5
}
